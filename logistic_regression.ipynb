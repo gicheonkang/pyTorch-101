{
 "cells": [
  {
   "cell_type": "code",
   "execution_count": 16,
   "metadata": {},
   "outputs": [],
   "source": [
    "import torch\n",
    "import torch.optim as optim\n",
    "import torch.nn as nn\n",
    "import torch.functional as F\n",
    "from torch.autograd import Variable\n",
    "import numpy as np\n",
    "from matplotlib import pyplot as plt\n",
    "import torchvision.datasets as dsets\n",
    "import torchvision.transforms as transforms\n",
    "\n",
    "# Hyper Parameters \n",
    "input_size = 784\n",
    "num_classes = 10\n",
    "num_epochs = 5\n",
    "batch_size = 100\n",
    "learning_rate = 0.01\n",
    "\n",
    "# MNIST Dataset (Images and Labels)\n",
    "train_dataset = dsets.MNIST(root='./data', \n",
    "                            train=True, \n",
    "                            transform=transforms.ToTensor(),\n",
    "                            download=True)\n",
    "\n",
    "test_dataset = dsets.MNIST(root='./data', \n",
    "                           train=False, \n",
    "                           transform=transforms.ToTensor())\n",
    "\n",
    "# Dataset Loader (Input Pipline)\n",
    "train_loader = torch.utils.data.DataLoader(dataset=train_dataset, \n",
    "                                           batch_size=batch_size, \n",
    "                                           shuffle=True)\n",
    "\n",
    "test_loader = torch.utils.data.DataLoader(dataset=test_dataset, \n",
    "                                          batch_size=batch_size, \n",
    "                                          shuffle=False)\n"
   ]
  },
  {
   "cell_type": "code",
   "execution_count": 26,
   "metadata": {},
   "outputs": [],
   "source": [
    "class LogisticRegression(nn.Module):\n",
    "    def __init__(self, input_s, output_s):\n",
    "        super(LogisticRegression, self).__init__()\n",
    "        self.linear = nn.Linear(input_s, output_s)\n",
    "    \n",
    "    def sigmoid(self, x):\n",
    "        return (1 / (1+torch.exp(x)))\n",
    "    \n",
    "    def forward(self, x):\n",
    "        logit = self.linear(x)\n",
    "        #out = self.sigmoid(logit)\n",
    "        return logit"
   ]
  },
  {
   "cell_type": "code",
   "execution_count": 27,
   "metadata": {},
   "outputs": [],
   "source": [
    "LR = LogisticRegression(input_size, num_classes)\n",
    "criterion = nn.CrossEntropyLoss()\n",
    "optimizer = optim.SGD(LR.parameters(), lr=learning_rate)"
   ]
  },
  {
   "cell_type": "code",
   "execution_count": 28,
   "metadata": {},
   "outputs": [
    {
     "name": "stdout",
     "output_type": "stream",
     "text": [
      "Epoch: [1/5], Step: [100/600], Loss: 1.5641\n",
      "Epoch: [1/5], Step: [200/600], Loss: 1.2090\n",
      "Epoch: [1/5], Step: [300/600], Loss: 1.0395\n",
      "Epoch: [1/5], Step: [400/600], Loss: 0.8930\n",
      "Epoch: [1/5], Step: [500/600], Loss: 0.6872\n",
      "Epoch: [1/5], Step: [600/600], Loss: 0.7793\n",
      "Epoch: [2/5], Step: [100/600], Loss: 0.7238\n",
      "Epoch: [2/5], Step: [200/600], Loss: 0.5971\n",
      "Epoch: [2/5], Step: [300/600], Loss: 0.6241\n",
      "Epoch: [2/5], Step: [400/600], Loss: 0.6041\n",
      "Epoch: [2/5], Step: [500/600], Loss: 0.6012\n",
      "Epoch: [2/5], Step: [600/600], Loss: 0.5566\n",
      "Epoch: [3/5], Step: [100/600], Loss: 0.6863\n",
      "Epoch: [3/5], Step: [200/600], Loss: 0.6306\n",
      "Epoch: [3/5], Step: [300/600], Loss: 0.4170\n",
      "Epoch: [3/5], Step: [400/600], Loss: 0.5239\n",
      "Epoch: [3/5], Step: [500/600], Loss: 0.5201\n",
      "Epoch: [3/5], Step: [600/600], Loss: 0.4426\n",
      "Epoch: [4/5], Step: [100/600], Loss: 0.4873\n",
      "Epoch: [4/5], Step: [200/600], Loss: 0.6391\n",
      "Epoch: [4/5], Step: [300/600], Loss: 0.4680\n",
      "Epoch: [4/5], Step: [400/600], Loss: 0.4568\n",
      "Epoch: [4/5], Step: [500/600], Loss: 0.3759\n",
      "Epoch: [4/5], Step: [600/600], Loss: 0.6005\n",
      "Epoch: [5/5], Step: [100/600], Loss: 0.4301\n",
      "Epoch: [5/5], Step: [200/600], Loss: 0.4616\n",
      "Epoch: [5/5], Step: [300/600], Loss: 0.3893\n",
      "Epoch: [5/5], Step: [400/600], Loss: 0.4397\n",
      "Epoch: [5/5], Step: [500/600], Loss: 0.4424\n",
      "Epoch: [5/5], Step: [600/600], Loss: 0.3354\n"
     ]
    }
   ],
   "source": [
    "for epoch in range(num_epochs):\n",
    "    for i, (images, labels) in enumerate(train_loader):\n",
    "        images = Variable(images.view(-1, 28*28))\n",
    "        labels = Variable(labels)\n",
    "    \n",
    "        optimizer.zero_grad()\n",
    "        output = LR(images)\n",
    "        loss = criterion(output, labels)\n",
    "        loss.backward()\n",
    "        optimizer.step()\n",
    "        \n",
    "        if (i+1) % 100 == 0:\n",
    "            print ('Epoch: [%d/%d], Step: [%d/%d], Loss: %.4f' \n",
    "                   % (epoch+1, num_epochs, i+1, len(train_dataset)//batch_size, loss.data[0]))    "
   ]
  },
  {
   "cell_type": "code",
   "execution_count": 33,
   "metadata": {},
   "outputs": [
    {
     "name": "stdout",
     "output_type": "stream",
     "text": [
      "Accuracy of the model on the 10000 test images: 89 %\n"
     ]
    }
   ],
   "source": [
    "# Test the Model\n",
    "correct = 0\n",
    "total = 0\n",
    "for images, labels in test_loader:\n",
    "    images = Variable(images.view(-1, 28*28))\n",
    "    outputs = LR(images)  \n",
    "    _, predicted = torch.max(outputs.data, 1)\n",
    "    total += labels.size(0)\n",
    "    correct += (predicted == labels).sum()\n",
    "    \n",
    "print('Accuracy of the model on the 10000 test images: %d %%' % (100 * correct / total))\n",
    "\n",
    "# Save the Model\n",
    "torch.save(LR.state_dict(), 'logistic_regression.pkl')"
   ]
  }
 ],
 "metadata": {
  "kernelspec": {
   "display_name": "Python [conda env:virtualenv]",
   "language": "python",
   "name": "conda-env-virtualenv-py"
  },
  "language_info": {
   "codemirror_mode": {
    "name": "ipython",
    "version": 3
   },
   "file_extension": ".py",
   "mimetype": "text/x-python",
   "name": "python",
   "nbconvert_exporter": "python",
   "pygments_lexer": "ipython3",
   "version": "3.6.4"
  }
 },
 "nbformat": 4,
 "nbformat_minor": 2
}

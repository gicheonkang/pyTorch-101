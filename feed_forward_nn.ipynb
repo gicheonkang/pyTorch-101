{
 "cells": [
  {
   "cell_type": "code",
   "execution_count": 6,
   "metadata": {},
   "outputs": [],
   "source": [
    "import numpy as np\n",
    "import torch\n",
    "import torchvision.datasets as dsets\n",
    "import torchvision.transforms as transforms\n",
    "import torch.nn as nn\n",
    "import torch.nn.functional as F\n",
    "from torch.autograd import Variable\n",
    "\n",
    "input_size = 784\n",
    "hidden_size = 512\n",
    "hidden_size2 = 256\n",
    "batch_size = 100\n",
    "learning_rate = 0.001\n",
    "num_classes = 10\n",
    "num_epochs = 5\n",
    "\n",
    "# MNIST Dataset \n",
    "train_dataset = dsets.MNIST(root='./data', \n",
    "                            train=True, \n",
    "                            transform=transforms.ToTensor(),  \n",
    "                            download=True)\n",
    "\n",
    "test_dataset = dsets.MNIST(root='./data', \n",
    "                           train=False, \n",
    "                           transform=transforms.ToTensor())\n",
    "\n",
    "# Data Loader (Input Pipeline)\n",
    "train_loader = torch.utils.data.DataLoader(dataset=train_dataset, \n",
    "                                           batch_size=batch_size, \n",
    "                                           shuffle=True)\n",
    "\n",
    "test_loader = torch.utils.data.DataLoader(dataset=test_dataset, \n",
    "                                          batch_size=batch_size, \n",
    "                                          shuffle=False)\n"
   ]
  },
  {
   "cell_type": "code",
   "execution_count": 7,
   "metadata": {},
   "outputs": [],
   "source": [
    "class FeedForwardNN(nn.Module):\n",
    "    def __init__(self, input_size, hidden_size, hidden_size2, output_size):\n",
    "        super(FeedForwardNN, self).__init__()\n",
    "        self.linear1 = nn.Linear(input_size, hidden_size)\n",
    "        self.linear2 = nn.Linear(hidden_size, hidden_size2)\n",
    "        self.linear3 = nn.Linear(hidden_size2, output_size)\n",
    "        \n",
    "    def forward(self, x):\n",
    "        l1 = F.relu(self.linear1(x))\n",
    "        l2 = F.relu(self.linear2(l1))\n",
    "        out = self.linear3(l2)\n",
    "        return out\n",
    "    \n",
    "\n",
    "NN = FeedForwardNN(input_size, hidden_size, hidden_size2, num_classes)\n",
    "NN.cuda(0)\n",
    "criterion = nn.CrossEntropyLoss()\n",
    "optimizer = torch.optim.Adam(NN.parameters(), lr=learning_rate)"
   ]
  },
  {
   "cell_type": "code",
   "execution_count": 10,
   "metadata": {},
   "outputs": [
    {
     "name": "stdout",
     "output_type": "stream",
     "text": [
      "epoch: [1/5], step: [100/600], Loss: 0.0398\n",
      "epoch: [1/5], step: [200/600], Loss: 0.0530\n",
      "epoch: [1/5], step: [300/600], Loss: 0.0458\n",
      "epoch: [1/5], step: [400/600], Loss: 0.0425\n",
      "epoch: [1/5], step: [500/600], Loss: 0.0765\n",
      "epoch: [1/5], step: [600/600], Loss: 0.0564\n",
      "epoch: [2/5], step: [100/600], Loss: 0.0331\n",
      "epoch: [2/5], step: [200/600], Loss: 0.0464\n",
      "epoch: [2/5], step: [300/600], Loss: 0.0755\n",
      "epoch: [2/5], step: [400/600], Loss: 0.0083\n",
      "epoch: [2/5], step: [500/600], Loss: 0.0919\n",
      "epoch: [2/5], step: [600/600], Loss: 0.0728\n",
      "epoch: [3/5], step: [100/600], Loss: 0.0110\n",
      "epoch: [3/5], step: [200/600], Loss: 0.0329\n",
      "epoch: [3/5], step: [300/600], Loss: 0.0171\n",
      "epoch: [3/5], step: [400/600], Loss: 0.0054\n",
      "epoch: [3/5], step: [500/600], Loss: 0.0150\n",
      "epoch: [3/5], step: [600/600], Loss: 0.0675\n",
      "epoch: [4/5], step: [100/600], Loss: 0.0058\n",
      "epoch: [4/5], step: [200/600], Loss: 0.0496\n",
      "epoch: [4/5], step: [300/600], Loss: 0.0388\n",
      "epoch: [4/5], step: [400/600], Loss: 0.1961\n",
      "epoch: [4/5], step: [500/600], Loss: 0.0110\n",
      "epoch: [4/5], step: [600/600], Loss: 0.0225\n",
      "epoch: [5/5], step: [100/600], Loss: 0.0074\n",
      "epoch: [5/5], step: [200/600], Loss: 0.0115\n",
      "epoch: [5/5], step: [300/600], Loss: 0.0691\n",
      "epoch: [5/5], step: [400/600], Loss: 0.0265\n",
      "epoch: [5/5], step: [500/600], Loss: 0.0056\n",
      "epoch: [5/5], step: [600/600], Loss: 0.0294\n"
     ]
    }
   ],
   "source": [
    "# training\n",
    "for epoch in range(num_epochs):\n",
    "    for i, (image, labels) in enumerate(train_loader):\n",
    "        images = Variable(image.view(-1, 28*28).cuda())\n",
    "        labels = Variable(labels.cuda())\n",
    "        \n",
    "        optimizer.zero_grad()\n",
    "        output = NN(images)\n",
    "        loss = criterion(output, labels)\n",
    "        loss.backward()\n",
    "        optimizer.step()\n",
    "\n",
    "        if(i+1) % 100 ==0:\n",
    "            print('epoch: [%d/%d], step: [%d/%d], Loss: %.4f' % (epoch+1, num_epochs, i+1, len(train_dataset)//batch_size, loss.data[0]))"
   ]
  },
  {
   "cell_type": "code",
   "execution_count": 11,
   "metadata": {},
   "outputs": [
    {
     "name": "stdout",
     "output_type": "stream",
     "text": [
      "accuracy of the model : 97 %\n"
     ]
    }
   ],
   "source": [
    "#test\n",
    "total = 0\n",
    "correct = 0\n",
    "\n",
    "for images, labels in test_loader:\n",
    "    images = Variable(images.view(-1, 28*28).cuda())\n",
    "    _, predicted = torch.max(NN(images).data, 1)\n",
    "    total += labels.size(0)\n",
    "    correct += (predicted.cpu() == labels).sum()    \n",
    "\n",
    "print('accuracy of the model : %d %%' % (100*correct/total))"
   ]
  }
 ],
 "metadata": {
  "kernelspec": {
   "display_name": "Python [conda env:venv]",
   "language": "python",
   "name": "conda-env-venv-py"
  },
  "language_info": {
   "codemirror_mode": {
    "name": "ipython",
    "version": 3
   },
   "file_extension": ".py",
   "mimetype": "text/x-python",
   "name": "python",
   "nbconvert_exporter": "python",
   "pygments_lexer": "ipython3",
   "version": "3.6.4"
  }
 },
 "nbformat": 4,
 "nbformat_minor": 2
}

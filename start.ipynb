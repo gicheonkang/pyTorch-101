{
 "cells": [
  {
   "cell_type": "code",
   "execution_count": 1,
   "metadata": {
    "collapsed": true
   },
   "outputs": [],
   "source": [
    "from __future__ import print_function\n",
    "import torch"
   ]
  },
  {
   "cell_type": "code",
   "execution_count": 2,
   "metadata": {},
   "outputs": [
    {
     "name": "stdout",
     "output_type": "stream",
     "text": [
      "\n1.00000e-19 *\n  0.0000  0.0000  0.0000\n  1.0842  0.0000 -0.0000\n  0.0000  0.0000  0.0000\n  0.0000  0.0000  0.0000\n  0.0000  0.0000  0.0000\n[torch.FloatTensor of size 5x3]\n\n"
     ]
    }
   ],
   "source": [
    "x = torch.Tensor(5, 3)\n",
    "print (x)"
   ]
  },
  {
   "cell_type": "code",
   "execution_count": 3,
   "metadata": {},
   "outputs": [
    {
     "name": "stdout",
     "output_type": "stream",
     "text": [
      "\n 0.5811  0.7851  0.0684\n 0.3020  0.2917  0.9906\n 0.1316  0.5356  0.6016\n 0.3098  0.2384  0.0823\n 0.0954  0.5752  0.6333\n[torch.FloatTensor of size 5x3]\n\n"
     ]
    }
   ],
   "source": [
    "x = torch.rand(5, 3)\n",
    "print (x)"
   ]
  },
  {
   "cell_type": "code",
   "execution_count": 4,
   "metadata": {},
   "outputs": [
    {
     "name": "stdout",
     "output_type": "stream",
     "text": [
      "torch.Size([5, 3])\n"
     ]
    }
   ],
   "source": [
    "print (x.size())"
   ]
  },
  {
   "cell_type": "code",
   "execution_count": 10,
   "metadata": {},
   "outputs": [
    {
     "name": "stdout",
     "output_type": "stream",
     "text": [
      "\n 0.6010  1.0150  0.4374\n 0.5807  0.6035  1.5028\n 0.1836  1.1820  0.9158\n 0.8815  0.3074  0.0873\n 0.9040  1.3173  0.8392\n[torch.FloatTensor of size 5x3]\n\n"
     ]
    }
   ],
   "source": [
    "y = torch.rand(5, 3)\n",
    "print (x + y)"
   ]
  },
  {
   "cell_type": "code",
   "execution_count": 11,
   "metadata": {},
   "outputs": [
    {
     "name": "stdout",
     "output_type": "stream",
     "text": [
      "\n 0.6010  1.0150  0.4374\n 0.5807  0.6035  1.5028\n 0.1836  1.1820  0.9158\n 0.8815  0.3074  0.0873\n 0.9040  1.3173  0.8392\n[torch.FloatTensor of size 5x3]\n\n"
     ]
    }
   ],
   "source": [
    "print (torch.add(x, y))"
   ]
  },
  {
   "cell_type": "code",
   "execution_count": 12,
   "metadata": {},
   "outputs": [
    {
     "name": "stdout",
     "output_type": "stream",
     "text": [
      "\n 0.6010  1.0150  0.4374\n 0.5807  0.6035  1.5028\n 0.1836  1.1820  0.9158\n 0.8815  0.3074  0.0873\n 0.9040  1.3173  0.8392\n[torch.FloatTensor of size 5x3]\n\n"
     ]
    }
   ],
   "source": [
    "result = torch.rand(5, 3)\n",
    "torch.add(x, y, out=result)\n",
    "print (result)"
   ]
  },
  {
   "cell_type": "code",
   "execution_count": 13,
   "metadata": {},
   "outputs": [
    {
     "name": "stdout",
     "output_type": "stream",
     "text": [
      "\n 0.6010  1.0150  0.4374\n 0.5807  0.6035  1.5028\n 0.1836  1.1820  0.9158\n 0.8815  0.3074  0.0873\n 0.9040  1.3173  0.8392\n[torch.FloatTensor of size 5x3]\n\n"
     ]
    }
   ],
   "source": [
    "y.add_(x)\n",
    "print (y)"
   ]
  },
  {
   "cell_type": "code",
   "execution_count": 16,
   "metadata": {},
   "outputs": [
    {
     "name": "stdout",
     "output_type": "stream",
     "text": [
      "\n 0.6010\n 0.5807\n 0.1836\n 0.8815\n 0.9040\n[torch.FloatTensor of size 5]\n\n\n 0.5807\n 0.1836\n[torch.FloatTensor of size 2x1]\n\n"
     ]
    }
   ],
   "source": [
    "print (result[:, 0])\n",
    "print (result[1:3, 0:1])"
   ]
  },
  {
   "cell_type": "code",
   "execution_count": 19,
   "metadata": {},
   "outputs": [
    {
     "name": "stdout",
     "output_type": "stream",
     "text": [
      "\n 0.5242  0.8820\n 0.2529  0.4706\n 0.9999  0.0275\n[torch.FloatTensor of size 3x2]\n\n\n 0.5242\n 0.8820\n 0.2529\n 0.4706\n 0.9999\n 0.0275\n[torch.FloatTensor of size 6]\n\n\n 0.5242  0.8820  0.2529\n 0.4706  0.9999  0.0275\n[torch.FloatTensor of size 2x3]\n\n"
     ]
    }
   ],
   "source": [
    "x = torch.rand(3, 2)\n",
    "y = x.view(6)\n",
    "z = x.view(-1, 3)\n",
    "print (x)\n",
    "print (y)\n",
    "print (z)"
   ]
  },
  {
   "cell_type": "code",
   "execution_count": 22,
   "metadata": {
    "collapsed": true
   },
   "outputs": [
    {
     "name": "stdout",
     "output_type": "stream",
     "text": [
      "\n 0.2460  0.2445\n 0.9773  0.1714\n 0.4691  0.1179\n[torch.FloatTensor of size 3x2]\n\ntorch.Size([5])\n[[ 0.24597663  0.24450988]\n [ 0.97727615  0.17140907]\n [ 0.4691478   0.11789757]]\n[ 0.98758769  0.62353951  0.06376743  0.41007596  0.43331307]\n"
     ]
    }
   ],
   "source": [
    "a = torch.rand(3, 2)\n",
    "b = torch.rand(5)\n",
    "\n",
    "print (a)\n",
    "print (b.size())\n",
    "\n",
    "print (a.numpy())\n",
    "print (b.numpy())"
   ]
  },
  {
   "cell_type": "code",
   "execution_count": 25,
   "metadata": {},
   "outputs": [
    {
     "name": "stdout",
     "output_type": "stream",
     "text": [
      "[ 1.  1.  1.  1.  1.]\n[[ 1.  1.]\n [ 1.  1.]]\n\n 1\n 1\n 1\n 1\n 1\n[torch.DoubleTensor of size 5]\n\ntorch.Size([5])\n\n 1  1\n 1  1\n[torch.DoubleTensor of size 2x2]\n\ntorch.Size([2, 2])\n"
     ]
    }
   ],
   "source": [
    "import numpy as np\n",
    "a = np.ones(5)\n",
    "c = np.ones((2, 2))\n",
    "print (a)\n",
    "print (c)\n",
    "b = torch.from_numpy(a)\n",
    "d = torch.from_numpy(c)\n",
    "print (b)\n",
    "print (b.size())\n",
    "print (d)\n",
    "print (d.size())"
   ]
  },
  {
   "cell_type": "code",
   "execution_count": null,
   "metadata": {},
   "outputs": [],
   "source": [
    "if torch.cuda.is_available():\n",
    "    x = x.cuda()\n",
    "    y = y.cuda()\n",
    "    print (x+y)"
   ]
  }
 ],
 "metadata": {
  "kernelspec": {
   "display_name": "Python 2",
   "language": "python",
   "name": "python2"
  },
  "language_info": {
   "codemirror_mode": {
    "name": "ipython",
    "version": 2
   },
   "file_extension": ".py",
   "mimetype": "text/x-python",
   "name": "python",
   "nbconvert_exporter": "python",
   "pygments_lexer": "ipython2",
   "version": "2.7.6"
  }
 },
 "nbformat": 4,
 "nbformat_minor": 0
}

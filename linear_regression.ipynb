{
 "cells": [
  {
   "cell_type": "code",
   "execution_count": 80,
   "metadata": {},
   "outputs": [],
   "source": [
    "import numpy as np\n",
    "from matplotlib import pyplot as plt\n",
    "import torch\n",
    "import torch.nn as nn\n",
    "import torch.optim as optim\n",
    "import torch.functional as F\n",
    "from torch.autograd import Variable\n",
    "\n",
    "# hyper parameters\n",
    "input_size = 1\n",
    "output_size = 1\n",
    "learning_rate = 0.01\n",
    "num_of_epoch = 100\n",
    "\n",
    "# data preprocessing\n",
    "#data = np.loadtxt('data/linear_regression.txt', unpack=True, dtype=np.float32, delimiter=',')\n",
    "\n",
    "#x_data, y_data = data[0], data[1]\n",
    "#x_data = torch.from_numpy(np.reshape(x_data, (len(x_data), 1)))\n",
    "#y_data = torch.from_numpy(np.reshape(y_data, (len(y_data), 1)))\n",
    "\n",
    "x_data = torch.from_numpy(np.array([[3.3], [4.4], [5.5], [6.71], [6.93], [4.168], \n",
    "                    [9.779], [6.182], [7.59], [2.167], [7.042], \n",
    "                    [10.791], [5.313], [7.997], [3.1]], dtype=np.float32))\n",
    "\n",
    "y_data = torch.from_numpy(np.array([[1.7], [2.76], [2.09], [3.19], [1.694], [1.573], \n",
    "                    [3.366], [2.596], [2.53], [1.221], [2.827], \n",
    "                    [3.465], [1.65], [2.904], [1.3]], dtype=np.float32))\n"
   ]
  },
  {
   "cell_type": "code",
   "execution_count": 81,
   "metadata": {},
   "outputs": [],
   "source": [
    "class LinearRegression(nn.Module):\n",
    "    def __init__(self, input_s, output_s):\n",
    "        super(LinearRegression, self).__init__()\n",
    "        self.linear = nn.Linear(input_s, output_s)\n",
    "    \n",
    "    def forward(self, x):\n",
    "        out = self.linear(x)\n",
    "        return out"
   ]
  },
  {
   "cell_type": "code",
   "execution_count": 82,
   "metadata": {},
   "outputs": [],
   "source": [
    "LR = LinearRegression(input_size, output_size)\n",
    "criterion = nn.MSELoss()\n",
    "optimizer = optim.SGD(LR.parameters(), lr=learning_rate)"
   ]
  },
  {
   "cell_type": "code",
   "execution_count": 86,
   "metadata": {},
   "outputs": [
    {
     "name": "stdout",
     "output_type": "stream",
     "text": [
      "Epoch [10/100], Loss: 0.1743\n",
      "Epoch [20/100], Loss: 0.1741\n",
      "Epoch [30/100], Loss: 0.1738\n",
      "Epoch [40/100], Loss: 0.1736\n",
      "Epoch [50/100], Loss: 0.1733\n",
      "Epoch [60/100], Loss: 0.1731\n",
      "Epoch [70/100], Loss: 0.1729\n",
      "Epoch [80/100], Loss: 0.1727\n",
      "Epoch [90/100], Loss: 0.1725\n",
      "Epoch [100/100], Loss: 0.1723\n"
     ]
    }
   ],
   "source": [
    "for epoch in range(num_of_epoch):\n",
    "    optimizer.zero_grad()\n",
    "    output = LR(Variable(x_data))\n",
    "    loss = criterion(output, Variable(y_data))\n",
    "    loss.backward()\n",
    "    optimizer.step()\n",
    "    \n",
    "    if (epoch+1) % 10 == 0:\n",
    "        print ('Epoch [%d/%d], Loss: %.4f' %(epoch+1, num_of_epoch, loss.data[0]))"
   ]
  },
  {
   "cell_type": "code",
   "execution_count": 84,
   "metadata": {},
   "outputs": [
    {
     "data": {
      "image/png": "[encoded data removed]",
      "text/plain": [
       "<Figure size 432x288 with 1 Axes>"
      ]
     },
     "metadata": {},
     "output_type": "display_data"
    }
   ],
   "source": [
    "# Plot the graph\n",
    "predicted = LR(Variable(x_data)).data.numpy()\n",
    "plt.plot(x_data.numpy(), y_data.numpy(), 'ro', label='Original data')\n",
    "plt.plot(x_data.numpy(), predicted, label='Fitted line')\n",
    "plt.legend()\n",
    "plt.show()\n",
    "\n",
    "# Save the Model\n",
    "torch.save(LR.state_dict(), 'model.pkl')"
   ]
  }
 ],
 "metadata": {
  "kernelspec": {
   "display_name": "Python [conda env:virtualenv]",
   "language": "python",
   "name": "conda-env-virtualenv-py"
  },
  "language_info": {
   "codemirror_mode": {
    "name": "ipython",
    "version": 3
   },
   "file_extension": ".py",
   "mimetype": "text/x-python",
   "name": "python",
   "nbconvert_exporter": "python",
   "pygments_lexer": "ipython3",
   "version": "3.6.4"
  }
 },
 "nbformat": 4,
 "nbformat_minor": 2
}

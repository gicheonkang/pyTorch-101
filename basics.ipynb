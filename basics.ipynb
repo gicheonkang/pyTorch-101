{
 "cells": [
  {
   "cell_type": "code",
   "execution_count": 58,
   "metadata": {},
   "outputs": [
    {
     "name": "stdout",
     "output_type": "stream",
     "text": [
      "Variable containing:\n",
      " 2\n",
      "[torch.FloatTensor of size 1]\n",
      "\n",
      "Variable containing:\n",
      " 1\n",
      "[torch.FloatTensor of size 1]\n",
      "\n",
      "Variable containing:\n",
      " 1\n",
      "[torch.FloatTensor of size 1]\n",
      "\n"
     ]
    }
   ],
   "source": [
    "import torch\n",
    "import torchvision\n",
    "import torch.nn as nn\n",
    "import numpy as np\n",
    "import torch.utils.data as data\n",
    "import torchvision.transforms as transforms\n",
    "import torchvision.datasets as dsets\n",
    "from torch.autograd import Variable\n",
    "\n",
    "x = Variable(torch.Tensor([1]), requires_grad=True)\n",
    "w = Variable(torch.Tensor([2]), requires_grad=True)\n",
    "b = Variable(torch.Tensor([3]), requires_grad=True)\n",
    "\n",
    "y = w * x + b\n",
    "y.backward()\n",
    "\n",
    "print (x.grad)\n",
    "print (w.grad)\n",
    "print (b.grad)\n"
   ]
  },
  {
   "cell_type": "code",
   "execution_count": 79,
   "metadata": {},
   "outputs": [
    {
     "name": "stdout",
     "output_type": "stream",
     "text": [
      "w:  Parameter containing:\n",
      "-0.4707  0.3610  0.0515\n",
      " 0.0377  0.0339  0.2801\n",
      "[torch.FloatTensor of size 2x3]\n",
      "\n",
      "b:  Parameter containing:\n",
      " 0.3558\n",
      "-0.1676\n",
      "[torch.FloatTensor of size 2]\n",
      "\n",
      "Variable containing:\n",
      " 0.0524  1.1680 -0.0464\n",
      " 1.0426  1.0842 -0.2359\n",
      " 0.1309  1.0538  1.7356\n",
      "-0.3744  0.4452  1.1840\n",
      "-0.1708 -0.8156 -0.3702\n",
      "[torch.FloatTensor of size 5x3]\n",
      "\n"
     ]
    }
   ],
   "source": [
    "x = Variable(torch.randn(5,3), requires_grad=True)\n",
    "y = Variable(torch.randn(5,2))\n",
    "\n",
    "linear = nn.Linear(3,2)\n",
    "print('w: ', linear.weight)\n",
    "print('b: ', linear.bias)\n",
    "print (x)"
   ]
  },
  {
   "cell_type": "code",
   "execution_count": 80,
   "metadata": {},
   "outputs": [
    {
     "name": "stdout",
     "output_type": "stream",
     "text": [
      "Variable containing:\n",
      " 0.7504 -0.1391\n",
      " 0.2443 -0.1577\n",
      " 0.7640  0.3591\n",
      " 0.7537  0.1649\n",
      " 0.1227 -0.3053\n",
      "[torch.FloatTensor of size 5x2]\n",
      "\n",
      "Variable containing:\n",
      " 0.7504 -0.1391\n",
      " 0.2443 -0.1577\n",
      " 0.7640  0.3591\n",
      " 0.7537  0.1649\n",
      " 0.1227 -0.3053\n",
      "[torch.FloatTensor of size 5x2]\n",
      "\n"
     ]
    }
   ],
   "source": [
    "criterion = nn.MSELoss()\n",
    "optimizer = torch.optim.SGD(linear.parameters(), lr=0.1)\n",
    "\n",
    "a = torch.t(linear.weight)\n",
    "print (torch.matmul(x,a) + linear.bias)\n",
    "\n",
    "pred = Variable(torch.Tensor(5,2), requires_grad=True)\n",
    "pred = linear(x)\n",
    "print (pred)"
   ]
  },
  {
   "cell_type": "code",
   "execution_count": 81,
   "metadata": {},
   "outputs": [
    {
     "name": "stdout",
     "output_type": "stream",
     "text": [
      "loss:  1.6203746795654297\n",
      "dL/dw:  Variable containing:\n",
      "-0.2908  0.6362  0.4464\n",
      " 0.0104  0.1613  0.6469\n",
      "[torch.FloatTensor of size 2x3]\n",
      "\n",
      "dL/db:  Variable containing:\n",
      " 0.2482\n",
      " 0.5151\n",
      "[torch.FloatTensor of size 2]\n",
      "\n",
      "loss:  Variable containing:\n",
      " 1.6204\n",
      "[torch.FloatTensor of size 1]\n",
      "\n",
      "low-level optimization, weight: %f \n",
      "-0.4125  0.2338 -0.0378\n",
      " 0.0356  0.0016  0.1507\n",
      "[torch.FloatTensor of size 2x3]\n",
      "\n",
      "low-level optimization, bias: %f \n",
      " 0.3558\n",
      "-0.1676\n",
      "[torch.FloatTensor of size 2]\n",
      "\n"
     ]
    }
   ],
   "source": [
    "loss = criterion(pred, y)\n",
    "loss.backward()\n",
    "\n",
    "print('loss: ', loss.data[0])\n",
    "print('dL/dw: ', linear.weight.grad)\n",
    "print('dL/db: ', linear.bias.grad)\n",
    "print('loss: ', ((pred-y)**2).sum() * 0.1)\n",
    "optimizer.step()\n",
    "\n",
    "print('low-level optimization, weight: %f', linear.weight.data.sub_(0.1 * linear.weight.grad.data))\n",
    "print('low-level optimization, bias: %f', linear.bias.data.sub_(- 0.1 * linear.bias.grad.data))"
   ]
  }
 ],
 "metadata": {
  "kernelspec": {
   "display_name": "Python [conda env:venv]",
   "language": "python",
   "name": "conda-env-venv-py"
  },
  "language_info": {
   "codemirror_mode": {
    "name": "ipython",
    "version": 3
   },
   "file_extension": ".py",
   "mimetype": "text/x-python",
   "name": "python",
   "nbconvert_exporter": "python",
   "pygments_lexer": "ipython3",
   "version": "3.6.4"
  }
 },
 "nbformat": 4,
 "nbformat_minor": 2
}

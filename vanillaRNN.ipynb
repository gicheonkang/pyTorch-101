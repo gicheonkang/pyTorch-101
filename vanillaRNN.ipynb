{
 "cells": [
  {
   "cell_type": "code",
   "execution_count": 12,
   "metadata": {},
   "outputs": [],
   "source": [
    "'''\n",
    "PYTORCH-101 \n",
    "vanilla RNN model. Written by Gicheon Kang(@gicheonkang)\n",
    "MIT LICENSE\n",
    "'''\n",
    "\n",
    "import torch\n",
    "import torch.nn as nn\n",
    "import torch.functional as F\n",
    "import torch.optim as optim\n",
    "from torch.autograd import Variable\n",
    "import numpy as np\n",
    "\n",
    "class vanillaRNN(nn.Module):\n",
    "    def __init__(self, data_size, hidden_size, output_size):\n",
    "        super(vanillaRNN, self).__init__()\n",
    "        \n",
    "        input_size = data_size + hidden_size\n",
    "        self.input_to_hidden = nn.Linear(input_size, hidden_size)\n",
    "        self.hidden_to_output = nn.Linear(hidden_size, output_size)\n",
    "        \n",
    "    def forward(self, data_b, input_b):\n",
    "        input = torch.cat((data_b, input_b), 1)\n",
    "        hidden = self.input_to_hidden(input)\n",
    "        output = self.hidden_to_output(hidden)\n",
    "    \n",
    "        return hidden, output"
   ]
  },
  {
   "cell_type": "code",
   "execution_count": 15,
   "metadata": {},
   "outputs": [],
   "source": [
    "rnn = vanillaRNN(50, 20, 10)\n",
    "criterion = nn.MSELoss()\n",
    "NUM_TIME_STEP = 5\n",
    "BATCH_SIZE = 100\n",
    "\n",
    "data = Variable(torch.randn(BATCH_SIZE, 50))\n",
    "last_hidden = Variable(torch.zeros(BATCH_SIZE, 20))\n",
    "target = Variable(torch.zeros(BATCH_SIZE, 10))\n",
    "\n",
    "loss = 0\n",
    "for i in range(NUM_TIME_STEP):\n",
    "    hidden, output = rnn(data, last_hidden)\n",
    "    loss += criterion(output, target)\n",
    "loss.backward()"
   ]
  }
 ],
 "metadata": {
  "kernelspec": {
   "display_name": "Python [conda env:venv]",
   "language": "python",
   "name": "conda-env-venv-py"
  },
  "language_info": {
   "codemirror_mode": {
    "name": "ipython",
    "version": 3
   },
   "file_extension": ".py",
   "mimetype": "text/x-python",
   "name": "python",
   "nbconvert_exporter": "python",
   "pygments_lexer": "ipython3",
   "version": "3.6.4"
  }
 },
 "nbformat": 4,
 "nbformat_minor": 2
}
